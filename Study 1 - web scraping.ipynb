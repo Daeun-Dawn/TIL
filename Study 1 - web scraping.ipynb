{
 "cells": [
  {
   "cell_type": "code",
   "execution_count": 1,
   "metadata": {},
   "outputs": [],
   "source": [
    "from selenium import webdriver"
   ]
  },
  {
   "cell_type": "code",
   "execution_count": 2,
   "metadata": {},
   "outputs": [],
   "source": [
    "ch_driver=webdriver.Chrome('C:/Users/user/chromedriver.exe')"
   ]
  },
  {
   "cell_type": "code",
   "execution_count": 3,
   "metadata": {},
   "outputs": [],
   "source": [
    "ch_driver.get(\"http://www.worldbank.org/en/news/all\")"
   ]
  },
  {
   "cell_type": "code",
   "execution_count": 13,
   "metadata": {},
   "outputs": [],
   "source": [
    "big=ch_driver.find_element_by_xpath(\"/html/body/div[4]/div/div/customsearch/main/div/div/div/div[2]/news/div/div/div/div[2]/div\")\n",
    "# 왜 class name으로는 찾아지지가 않지??"
   ]
  },
  {
   "cell_type": "code",
   "execution_count": 14,
   "metadata": {},
   "outputs": [],
   "source": [
    "lists=big.find_elements_by_class_name('search-listing-content')"
   ]
  },
  {
   "cell_type": "code",
   "execution_count": 4,
   "metadata": {},
   "outputs": [
    {
     "data": {
      "text/plain": [
       "[<selenium.webdriver.remote.webelement.WebElement (session=\"d084524e3da80e9a53a0473af5d06c5f\", element=\"0.25190634507166965-1\")>,\n",
       " <selenium.webdriver.remote.webelement.WebElement (session=\"d084524e3da80e9a53a0473af5d06c5f\", element=\"0.25190634507166965-2\")>,\n",
       " <selenium.webdriver.remote.webelement.WebElement (session=\"d084524e3da80e9a53a0473af5d06c5f\", element=\"0.25190634507166965-3\")>,\n",
       " <selenium.webdriver.remote.webelement.WebElement (session=\"d084524e3da80e9a53a0473af5d06c5f\", element=\"0.25190634507166965-4\")>,\n",
       " <selenium.webdriver.remote.webelement.WebElement (session=\"d084524e3da80e9a53a0473af5d06c5f\", element=\"0.25190634507166965-5\")>,\n",
       " <selenium.webdriver.remote.webelement.WebElement (session=\"d084524e3da80e9a53a0473af5d06c5f\", element=\"0.25190634507166965-6\")>,\n",
       " <selenium.webdriver.remote.webelement.WebElement (session=\"d084524e3da80e9a53a0473af5d06c5f\", element=\"0.25190634507166965-7\")>,\n",
       " <selenium.webdriver.remote.webelement.WebElement (session=\"d084524e3da80e9a53a0473af5d06c5f\", element=\"0.25190634507166965-8\")>,\n",
       " <selenium.webdriver.remote.webelement.WebElement (session=\"d084524e3da80e9a53a0473af5d06c5f\", element=\"0.25190634507166965-9\")>,\n",
       " <selenium.webdriver.remote.webelement.WebElement (session=\"d084524e3da80e9a53a0473af5d06c5f\", element=\"0.25190634507166965-10\")>,\n",
       " <selenium.webdriver.remote.webelement.WebElement (session=\"d084524e3da80e9a53a0473af5d06c5f\", element=\"0.25190634507166965-11\")>,\n",
       " <selenium.webdriver.remote.webelement.WebElement (session=\"d084524e3da80e9a53a0473af5d06c5f\", element=\"0.25190634507166965-12\")>,\n",
       " <selenium.webdriver.remote.webelement.WebElement (session=\"d084524e3da80e9a53a0473af5d06c5f\", element=\"0.25190634507166965-13\")>,\n",
       " <selenium.webdriver.remote.webelement.WebElement (session=\"d084524e3da80e9a53a0473af5d06c5f\", element=\"0.25190634507166965-14\")>,\n",
       " <selenium.webdriver.remote.webelement.WebElement (session=\"d084524e3da80e9a53a0473af5d06c5f\", element=\"0.25190634507166965-15\")>,\n",
       " <selenium.webdriver.remote.webelement.WebElement (session=\"d084524e3da80e9a53a0473af5d06c5f\", element=\"0.25190634507166965-16\")>,\n",
       " <selenium.webdriver.remote.webelement.WebElement (session=\"d084524e3da80e9a53a0473af5d06c5f\", element=\"0.25190634507166965-17\")>,\n",
       " <selenium.webdriver.remote.webelement.WebElement (session=\"d084524e3da80e9a53a0473af5d06c5f\", element=\"0.25190634507166965-18\")>,\n",
       " <selenium.webdriver.remote.webelement.WebElement (session=\"d084524e3da80e9a53a0473af5d06c5f\", element=\"0.25190634507166965-19\")>,\n",
       " <selenium.webdriver.remote.webelement.WebElement (session=\"d084524e3da80e9a53a0473af5d06c5f\", element=\"0.25190634507166965-20\")>]"
      ]
     },
     "execution_count": 4,
     "metadata": {},
     "output_type": "execute_result"
    }
   ],
   "source": [
    "ch_driver.find_elements_by_class_name('search-listing-content')"
   ]
  },
  {
   "cell_type": "code",
   "execution_count": 15,
   "metadata": {},
   "outputs": [
    {
     "data": {
      "text/plain": [
       "20"
      ]
     },
     "execution_count": 15,
     "metadata": {},
     "output_type": "execute_result"
    }
   ],
   "source": [
    "len(lists)"
   ]
  },
  {
   "cell_type": "code",
   "execution_count": 18,
   "metadata": {},
   "outputs": [
    {
     "data": {
      "text/plain": [
       "'Indonesia: World Bank Statement'"
      ]
     },
     "execution_count": 18,
     "metadata": {},
     "output_type": "execute_result"
    }
   ],
   "source": [
    "# getting title\n",
    "title=lists[0].find_element_by_tag_name('h4').text\n",
    "title"
   ]
  },
  {
   "cell_type": "code",
   "execution_count": 20,
   "metadata": {},
   "outputs": [],
   "source": [
    "info=lists[0].find_element_by_class_name('search-listing-info')"
   ]
  },
  {
   "cell_type": "code",
   "execution_count": 32,
   "metadata": {},
   "outputs": [
    {
     "data": {
      "text/plain": [
       "['Date', ' January 01, 2019 Type', ' Statement Language', ' English']"
      ]
     },
     "execution_count": 32,
     "metadata": {},
     "output_type": "execute_result"
    }
   ],
   "source": [
    "lists[0].find_element_by_class_name('search-listing-info').text.split(':')"
   ]
  },
  {
   "cell_type": "code",
   "execution_count": 35,
   "metadata": {},
   "outputs": [
    {
     "data": {
      "text/plain": [
       "'January 01, 2019'"
      ]
     },
     "execution_count": 35,
     "metadata": {},
     "output_type": "execute_result"
    }
   ],
   "source": [
    "# getting date\n",
    "date=lists[0].find_element_by_class_name('search-listing-info').text.split(':')[1][:-5].strip(' ')"
   ]
  },
  {
   "cell_type": "code",
   "execution_count": 42,
   "metadata": {},
   "outputs": [
    {
     "data": {
      "text/plain": [
       "'Statement'"
      ]
     },
     "execution_count": 42,
     "metadata": {},
     "output_type": "execute_result"
    }
   ],
   "source": [
    "# getting type\n",
    "type=lists[0].find_element_by_class_name('search-listing-info').text.split(':')[2][:-8].strip(\" \")"
   ]
  },
  {
   "cell_type": "code",
   "execution_count": 46,
   "metadata": {},
   "outputs": [
    {
     "data": {
      "text/plain": [
       "'English'"
      ]
     },
     "execution_count": 46,
     "metadata": {},
     "output_type": "execute_result"
    }
   ],
   "source": [
    "language=lists[0].find_element_by_class_name('search-listing-info').text.split(':')[3].strip(\" \")"
   ]
  },
  {
   "cell_type": "code",
   "execution_count": 48,
   "metadata": {},
   "outputs": [
    {
     "name": "stdout",
     "output_type": "stream",
     "text": [
      "Indonesia: World Bank Statement\n",
      "January 01, 2019\n",
      "Statement\n",
      "English\n",
      "A New Irrigation Canal Brings Hope to Rural Afghans\n",
      "December 31, 2018\n",
      "Feature Story\n",
      "English\n",
      "A New Era of Water Governance in China\n",
      "December 27, 2018\n",
      "Infographic\n",
      "English\n",
      "East Asia Must Clear Hurdles to Sustain Growth\n",
      "December 27, 2018\n",
      "Opinion\n",
      "English\n",
      "Kyrgyz Republic Energy Sector\n",
      "December 25, 2018\n",
      "Brief\n",
      "English\n",
      "Stakeholder Consultation Plan: Cambodia Country Partnership Framework\n",
      "December 24, 2018\n",
      "Brief\n",
      "English\n",
      "Digital Payments Benefit Afghan Pensioners\n",
      "December 23, 2018\n",
      "Feature Story\n",
      "English\n",
      "World Bank: Investments in People Critical for Future Growth\n",
      "December 21, 2018\n",
      "Press Release\n",
      "English\n",
      "Remarks by Albania Country Manager at Launch of Project Greenback 2.0 in Berat\n",
      "December 21, 2018\n",
      "Speeches and Transcripts\n",
      "English\n",
      "In Yerevan, a Hackathon Embraces Technology to Combat Gender-Based Violence\n",
      "December 21, 2018\n",
      "Feature Story\n",
      "English\n",
      "Year in Review: 2018 in 14 Charts\n",
      "December 21, 2018\n",
      "Feature Story\n",
      "English\n",
      "Engagement plan for Mongolia Country Partnership Framework\n",
      "December 21, 2018\n",
      "Brief\n",
      "English\n",
      "Development Digest: Looking Beyond Averages\n",
      "December 21, 2018\n",
      "Publication\n",
      "English\n",
      "World Bank Updates Growth Forecasts for the Philippines\n",
      "December 21, 2018\n",
      "Press Release\n",
      "English\n",
      "China Economic Update - December 2018\n",
      "December 20, 2018\n",
      "Publication\n",
      "English\n",
      "Increasing Social Spending Can Boost Incomes and Consumption in China, Says World Bank\n",
      "December 20, 2018\n",
      "Press Release\n",
      "English\n",
      "Indonesia: Making the Resources Work to Reduce Child Stunting\n",
      "December 20, 2018\n",
      "Feature Story\n",
      "English\n",
      "Indonesia: Making the Resources Work to Reduce Child Stunting\n",
      "December 20, 2018\n",
      "Feature Story\n",
      "English\n",
      "Leveraging Korea’s Experience and Resources through Seoul Center Partnership\n",
      "December 20, 2018\n",
      "Feature Story\n",
      "English\n",
      "An Additional US$ 18.5 Million for Improving Palestinian Infrastructure Services\n",
      "December 20, 2018\n",
      "Press Release\n",
      "English\n"
     ]
    },
    {
     "data": {
      "text/plain": [
       "[('Indonesia: World Bank Statement',\n",
       "  'January 01, 2019',\n",
       "  'Statement',\n",
       "  'English'),\n",
       " ('A New Irrigation Canal Brings Hope to Rural Afghans',\n",
       "  'December 31, 2018',\n",
       "  'Feature Story',\n",
       "  'English'),\n",
       " ('A New Era of Water Governance in China',\n",
       "  'December 27, 2018',\n",
       "  'Infographic',\n",
       "  'English'),\n",
       " ('East Asia Must Clear Hurdles to Sustain Growth',\n",
       "  'December 27, 2018',\n",
       "  'Opinion',\n",
       "  'English'),\n",
       " ('Kyrgyz Republic Energy Sector', 'December 25, 2018', 'Brief', 'English'),\n",
       " ('Stakeholder Consultation Plan: Cambodia Country Partnership Framework',\n",
       "  'December 24, 2018',\n",
       "  'Brief',\n",
       "  'English'),\n",
       " ('Digital Payments Benefit Afghan Pensioners',\n",
       "  'December 23, 2018',\n",
       "  'Feature Story',\n",
       "  'English'),\n",
       " ('World Bank: Investments in People Critical for Future Growth',\n",
       "  'December 21, 2018',\n",
       "  'Press Release',\n",
       "  'English'),\n",
       " ('Remarks by Albania Country Manager at Launch of Project Greenback 2.0 in Berat',\n",
       "  'December 21, 2018',\n",
       "  'Speeches and Transcripts',\n",
       "  'English'),\n",
       " ('In Yerevan, a Hackathon Embraces Technology to Combat Gender-Based Violence',\n",
       "  'December 21, 2018',\n",
       "  'Feature Story',\n",
       "  'English'),\n",
       " ('Year in Review: 2018 in 14 Charts',\n",
       "  'December 21, 2018',\n",
       "  'Feature Story',\n",
       "  'English'),\n",
       " ('Engagement plan for Mongolia Country Partnership Framework',\n",
       "  'December 21, 2018',\n",
       "  'Brief',\n",
       "  'English'),\n",
       " ('Development Digest: Looking Beyond Averages',\n",
       "  'December 21, 2018',\n",
       "  'Publication',\n",
       "  'English'),\n",
       " ('World Bank Updates Growth Forecasts for the Philippines',\n",
       "  'December 21, 2018',\n",
       "  'Press Release',\n",
       "  'English'),\n",
       " ('China Economic Update - December 2018',\n",
       "  'December 20, 2018',\n",
       "  'Publication',\n",
       "  'English'),\n",
       " ('Increasing Social Spending Can Boost Incomes and Consumption in China, Says World Bank',\n",
       "  'December 20, 2018',\n",
       "  'Press Release',\n",
       "  'English'),\n",
       " ('Indonesia: Making the Resources Work to Reduce Child Stunting',\n",
       "  'December 20, 2018',\n",
       "  'Feature Story',\n",
       "  'English'),\n",
       " ('Indonesia: Making the Resources Work to Reduce Child Stunting',\n",
       "  'December 20, 2018',\n",
       "  'Feature Story',\n",
       "  'English'),\n",
       " ('Leveraging Korea’s Experience and Resources through Seoul Center Partnership',\n",
       "  'December 20, 2018',\n",
       "  'Feature Story',\n",
       "  'English'),\n",
       " ('An Additional US$ 18.5 Million for Improving Palestinian Infrastructure Services',\n",
       "  'December 20, 2018',\n",
       "  'Press Release',\n",
       "  'English')]"
      ]
     },
     "execution_count": 48,
     "metadata": {},
     "output_type": "execute_result"
    }
   ],
   "source": [
    "news_list=[]\n",
    "for list in lists:\n",
    "    title=list.find_element_by_tag_name('h4').text\n",
    "    date=list.find_element_by_class_name('search-listing-info').text.split(':')[1][:-5].strip(' ')\n",
    "    type=list.find_element_by_class_name('search-listing-info').text.split(':')[2][:-8].strip(\" \")\n",
    "    language=list.find_element_by_class_name('search-listing-info').text.split(':')[3].strip(\" \")\n",
    "    \n",
    "    print(title, date, type, language, sep='\\n')\n",
    "    news_list.append((title, date, type, language))\n",
    "news_list"
   ]
  }
 ],
 "metadata": {
  "kernelspec": {
   "display_name": "Python 3",
   "language": "python",
   "name": "python3"
  },
  "language_info": {
   "codemirror_mode": {
    "name": "ipython",
    "version": 3
   },
   "file_extension": ".py",
   "mimetype": "text/x-python",
   "name": "python",
   "nbconvert_exporter": "python",
   "pygments_lexer": "ipython3",
   "version": "3.6.5"
  }
 },
 "nbformat": 4,
 "nbformat_minor": 2
}
